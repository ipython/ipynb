{
 "cells": [
  {
   "cell_type": "markdown",
   "metadata": {},
   "source": [
    "# `foobar` is a test notebook \n",
    "\n",
    "This notebook is loaded in as a module.  A convention held by `importnb` is that the first cell, if it is markdown with become the docstring of the module."
   ]
  },
  {
   "cell_type": "markdown",
   "metadata": {},
   "source": [
    "All other markdown cells are converted to string expressions in the python module.  Except when the Markdown cell preceeds a `def or class` if and only if no docstring is supplied."
   ]
  },
  {
   "cell_type": "code",
   "execution_count": 1,
   "metadata": {},
   "outputs": [],
   "source": [
    "    a_parameter = 'foo'\n",
    "    not_a_parameter = __name__"
   ]
  },
  {
   "cell_type": "code",
   "execution_count": 1,
   "metadata": {},
   "outputs": [],
   "source": [
    "    def function_with_python_docstring():\n",
    "        \"\"\"This docstring will not be replaced.\"\"\""
   ]
  },
  {
   "cell_type": "markdown",
   "metadata": {},
   "source": [
    "`function_with_markdown_string`  will have this Markdown cell as its docstring.  What is cool is that we can include `doctest`s.\n",
    "\n",
    "    >>> assert True"
   ]
  },
  {
   "cell_type": "code",
   "execution_count": 2,
   "metadata": {},
   "outputs": [],
   "source": [
    "    def function_with_markdown_docstring(): ..."
   ]
  },
  {
   "cell_type": "code",
   "execution_count": 2,
   "metadata": {},
   "outputs": [],
   "source": [
    "    _repr_markdown_ = lambda: \"\"\"# A Custom Markdown Representaiton\n",
    "    \n",
    "    This module is named {__name__} and it original repr was:\n",
    "    \n",
    "        {original}\n",
    "    \"\"\".format(original=repr(__import__(__name__)), **globals())"
   ]
  },
  {
   "cell_type": "markdown",
   "metadata": {},
   "source": [
    "This cell is not a docstring, but will docstring, but is captured in tests."
   ]
  }
 ],
 "metadata": {
  "kernelspec": {
   "display_name": "Python 3",
   "language": "python",
   "name": "python3"
  },
  "language_info": {
   "codemirror_mode": {
    "name": "ipython",
    "version": 3
   },
   "file_extension": ".py",
   "mimetype": "text/x-python",
   "name": "python",
   "nbconvert_exporter": "python",
   "pygments_lexer": "ipython3",
   "version": "3.6.6"
  }
 },
 "nbformat": 4,
 "nbformat_minor": 2
}
