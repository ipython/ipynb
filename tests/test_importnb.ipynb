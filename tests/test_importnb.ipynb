{
 "cells": [
  {
   "cell_type": "markdown",
   "metadata": {},
   "source": [
    "__tests__ for `importnb`"
   ]
  },
  {
   "cell_type": "code",
   "execution_count": 1,
   "metadata": {},
   "outputs": [],
   "source": [
    "    from importnb import Notebook, reload\n",
    "    from importnb.parameterize import parameterize, Parameterize\n",
    "    from importnb.remote import Remote\n",
    "    from pytest import fixture, raises, mark\n",
    "    import json, linecache, inspect, ast, sys, io\n",
    "    from pathlib import Path\n",
    "    import contextlib\n",
    "    "
   ]
  },
  {
   "cell_type": "code",
   "execution_count": 2,
   "metadata": {},
   "outputs": [],
   "source": [
    "    try: from IPython import get_ipython\n",
    "    except: get_ipython = lambda: None\n",
    "    "
   ]
  },
  {
   "cell_type": "markdown",
   "metadata": {},
   "source": [
    "## Marks"
   ]
  },
  {
   "cell_type": "code",
   "execution_count": 3,
   "metadata": {},
   "outputs": [],
   "source": [
    "    ipy = mark.skipif(not get_ipython(), reason=\"\"\"Not IPython.\"\"\")\n",
    "    py34 = sys.version_info.major == 3 and sys.version_info.minor == 4"
   ]
  },
  {
   "cell_type": "code",
   "execution_count": 4,
   "metadata": {},
   "outputs": [],
   "source": [
    "    def test_basic():\n",
    "        with Notebook(): \n",
    "            import foobar\n",
    "            reload(foobar)\n",
    "        assert isinstance(foobar.__loader__, Notebook)\n",
    "        assert foobar.__test__\n",
    "        del foobar"
   ]
  },
  {
   "cell_type": "code",
   "execution_count": 5,
   "metadata": {},
   "outputs": [],
   "source": [
    "    @fixture\n",
    "    def module():\n",
    "        sys.path_importer_cache.clear()\n",
    "        with Notebook(): \n",
    "            import foobar\n",
    "            yield reload(foobar)\n",
    "        del foobar"
   ]
  },
  {
   "cell_type": "code",
   "execution_count": 6,
   "metadata": {},
   "outputs": [],
   "source": [
    "    @fixture\n",
    "    def package():\n",
    "        with Notebook(): \n",
    "            import foobaz.foobar\n",
    "        yield foobaz.foobar\n",
    "        del foobaz"
   ]
  },
  {
   "cell_type": "code",
   "execution_count": 7,
   "metadata": {},
   "outputs": [],
   "source": [
    "    def test_package(package, module):\n",
    "        assert not module.__package__\n",
    "        assert package.__package__"
   ]
  },
  {
   "cell_type": "code",
   "execution_count": 8,
   "metadata": {},
   "outputs": [],
   "source": [
    "    def test_reload(module): \n",
    "        \"\"\"delete a method from the module and see if it is recovered\"\"\"\n",
    "        del module._repr_markdown_\n",
    "        \n",
    "        \"\"\"The contextmanager is required.\"\"\"\n",
    "        with Notebook():\n",
    "            reload(module)\n",
    "        assert hasattr(module, '_repr_markdown_')"
   ]
  },
  {
   "cell_type": "code",
   "execution_count": 9,
   "metadata": {},
   "outputs": [],
   "source": [
    "    def test_docstrings(module):\n",
    "        assert module.__doc__\n",
    "        assert module.function_with_markdown_docstring.__doc__\n",
    "        assert module.function_with_python_docstring.__doc__"
   ]
  },
  {
   "cell_type": "code",
   "execution_count": 10,
   "metadata": {},
   "outputs": [],
   "source": [
    "    def test_docstring_opts(module):\n",
    "        with Notebook(markdown_docstring=False):\n",
    "            reload(module)\n",
    "        assert module.__doc__\n",
    "        assert not module.function_with_markdown_docstring.__doc__\n",
    "        assert module.function_with_python_docstring.__doc__"
   ]
  },
  {
   "cell_type": "code",
   "execution_count": 11,
   "metadata": {},
   "outputs": [],
   "source": [
    "    def test_from_file(module):\n",
    "        new = Notebook.load(module.__file__)\n",
    "        assert module is not new"
   ]
  },
  {
   "cell_type": "code",
   "execution_count": 12,
   "metadata": {},
   "outputs": [],
   "source": [
    "    @mark.skipif(py34, reason=\"There is no py34 lazyloader.\")\n",
    "    def test_lazy(capsys):\n",
    "        \"\"\"Use stdout to test this depsite there probably being a better way\"\"\"\n",
    "        with Notebook(lazy=True): \n",
    "            module = reload(__import__('lazy_test'))\n",
    "            assert not capsys.readouterr()[0], capsys.readouterr()[0]\n",
    "            module.foo, \"The function gets executed here\"\n",
    "            assert capsys.readouterr()[0]"
   ]
  },
  {
   "cell_type": "code",
   "execution_count": 13,
   "metadata": {},
   "outputs": [],
   "source": [
    "    def test_module_source(module): \n",
    "        with raises(getattr(json, 'JSONDecodeError', ValueError)):\n",
    "            json.loads(''.join(linecache.cache[module.__file__][2]))\n",
    "        assert inspect.getsource(module).strip() == ''.join(linecache.cache[module.__file__][2]).strip()"
   ]
  },
  {
   "cell_type": "code",
   "execution_count": 14,
   "metadata": {},
   "outputs": [],
   "source": [
    "    import sys"
   ]
  },
  {
   "cell_type": "code",
   "execution_count": 15,
   "metadata": {},
   "outputs": [],
   "source": [
    "    @mark.skipif(py34, reason=\"I don't know why this fails on 3.4.\")\n",
    "    def test_main():\n",
    "        with Notebook('__main__'):\n",
    "            try: del sys.modules['foobar']\n",
    "            finally: import foobar\n",
    "            \n",
    "        assert foobar.__name__ == '__main__'"
   ]
  },
  {
   "cell_type": "code",
   "execution_count": 16,
   "metadata": {},
   "outputs": [],
   "source": [
    "    def test_object_source(module): \n",
    "        assert ast.parse(inspect.getsource(module.function_with_markdown_docstring)), \"\"\"The source is invalid\"\"\""
   ]
  },
  {
   "cell_type": "code",
   "execution_count": 17,
   "metadata": {},
   "outputs": [],
   "source": [
    "    def test_python_file():\n",
    "        import foobar as module\n",
    "        assert reload(module).__file__.endswith('.py'), \"\"\"Python didn't take precedent.\"\"\"\n",
    "        with Notebook(): assert reload(module).__file__.endswith('.ipynb')\n",
    "        assert reload(module).__file__.endswith('.py')\n",
    "        with Notebook(): assert reload(module).__file__.endswith('.ipynb')"
   ]
  },
  {
   "cell_type": "code",
   "execution_count": 18,
   "metadata": {},
   "outputs": [],
   "source": [
    "    @ipy\n",
    "    def test_cli(module): \n",
    "        __import__('subprocess').check_call(\n",
    "            'ipython -m {}'.format(module.__name__).split(), cwd=str(Path(module.__file__).parent))\n",
    "        __import__('subprocess').check_call(\n",
    "            'ipython -m importnb -- {}'.format(module.__file__).split(), cwd=str(Path(module.__file__).parent))"
   ]
  },
  {
   "cell_type": "code",
   "execution_count": 19,
   "metadata": {},
   "outputs": [],
   "source": [
    "    def test_parameterize(module):\n",
    "        f = parameterize(module)\n",
    "        assert 'a_parameter' in f.__signature__.parameters\n",
    "        assert 'not_a_parameter' not in f.__signature__.parameters\n",
    "        assert isinstance(f(), type(module))"
   ]
  },
  {
   "cell_type": "code",
   "execution_count": 20,
   "metadata": {},
   "outputs": [],
   "source": [
    "    def test_minified_json(module): \n",
    "        with open(module.__file__) as f, open('foobarmin.ipynb', 'w') as o: \n",
    "            json.dump(json.load(f), o, indent=None)\n",
    "            \n",
    "        with Notebook():\n",
    "            import foobarmin \n",
    "            \n",
    "        assert inspect.getsource(foobarmin.function_with_markdown_docstring)\n",
    "            \n",
    "        with open(foobarmin.__file__) as file:\n",
    "            assert json.load(file)"
   ]
  },
  {
   "cell_type": "code",
   "execution_count": 21,
   "metadata": {},
   "outputs": [],
   "source": [
    "    def test_fuzzy_finder(): \n",
    "        import __bar\n",
    "        assert __bar.__name__ == 'foobar'\n",
    "        del __bar"
   ]
  },
  {
   "cell_type": "code",
   "execution_count": 22,
   "metadata": {},
   "outputs": [],
   "source": [
    "    def test_remote(monkeypatch):\n",
    "        def mocked(url):\n",
    "            class DummyNotebook(object):\n",
    "                def read(self):\n",
    "                    with open('tests/foobar.ipynb', 'rb') as file: return file.read()\n",
    "            return DummyNotebook()\n",
    "        monkeypatch.setattr(__import__('urllib').request, \"urlopen\", mocked)\n",
    "        with Remote('http://0.0.0.0:8888/*.ipynb'): \n",
    "            module = __import__('tests/foobar')\n",
    "        assert module.__file__.startswith('http')\n",
    "        assert module.function_with_markdown_docstring"
   ]
  },
  {
   "cell_type": "markdown",
   "metadata": {},
   "source": [
    "`importnb` should be able to transform expressions beginning with magics.\n",
    "\n",
    "    def test_magic_syntax():..."
   ]
  }
 ],
 "metadata": {
  "kernelspec": {
   "display_name": "Python 3",
   "language": "python",
   "name": "python3"
  },
  "language_info": {
   "codemirror_mode": {
    "name": "ipython",
    "version": 3
   },
   "file_extension": ".py",
   "mimetype": "text/x-python",
   "name": "python",
   "nbconvert_exporter": "python",
   "pygments_lexer": "ipython3",
   "version": "3.6.6"
  }
 },
 "nbformat": 4,
 "nbformat_minor": 2
}