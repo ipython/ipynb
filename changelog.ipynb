{
 "cells": [
  {
   "cell_type": "markdown",
   "metadata": {},
   "source": [
    "## CHANGELOG"
   ]
  },
  {
   "cell_type": "markdown",
   "metadata": {},
   "source": [
    "# 0.4.0\n",
    "\n",
    "* Fuzzy name completion.\n",
    "* A configurable extension system for magics.\n",
    "* `Interactive(shell=False)` is the default loader."
   ]
  },
  {
   "cell_type": "markdown",
   "metadata": {},
   "source": [
    "# 0.3.2\n",
    "\n",
    "* Add `remote` loader.  Load notebooks from remote urls.\n",
    "* Support a fuzzy name import system.  Files with special characters and numbers are importable.\n",
    "* An IPython magic to allow relative imports during interactive computing."
   ]
  },
  {
   "cell_type": "markdown",
   "metadata": {},
   "source": [
    "# 0.3.1\n",
    "\n",
    "* In loaders `Notebook`, `Interactive`, `Execute`, and `Parameterize`\n",
    "* Remove `Partial`, `Lazy`, and `NotebookTest` loaders.\n",
    "* The first Markdown cell imports as a docstrings, permitting doctests on markdown cells.\n",
    "* `Notebook(globals={})` passes global values to the module\n",
    "* `Notebook(dir=\"..\")` will change the working directory and path.\n",
    "* The code is pure python and uses IPython when possible.\n",
    "* `ipython -m importnb nodebook.ipynb` runs a notebook."
   ]
  },
  {
   "cell_type": "markdown",
   "metadata": {},
   "source": [
    "# 0.2.9\n",
    "\n",
    "* Include `Partial`, `Lazy`, and `NotebookTest` loaders.\n",
    "* Transform markdown cells to literate block strings so they are included in the ast.\n",
    "    * `__doc__`'s are extracted from the first markdown cell or normal source code from a code cell.\n",
    "* Export the python source code with `black`.\n",
    "* `Notebook.from_filename` is a loader for paths and strings.\n",
    "* Add `importnb.nbtest` for notebook testing tools..\n",
    "* Benchmark `importnb` against existing notebooks.\n",
    "* Include a `watchdog` trick to watch tests..\n",
    "* Extend the project to >= 3.4\n",
    "* Use nbviewer/github hierachy for the docs."
   ]
  },
  {
   "cell_type": "markdown",
   "metadata": {},
   "source": [
    "# 0.2.4\n",
    "\n",
    "* Use `tox` for testing\n",
    "* Use a source directory folder structure for pytest and tox testing.\n",
    "* Create a pytest plugin that discovers notebooks as tests.  With `importnb` notebooks can be used as fixtures in pytest.\n",
    "* Install `importnb` as an IPython extension.\n",
    "* Support running notebooks as modules from the `ipython` command line\n",
    "* Create a `setuptools` command to allow notebooks as packages. "
   ]
  },
  {
   "cell_type": "markdown",
   "metadata": {},
   "source": [
    "# 0.2.1\n",
    "\n",
    "* `importnb` supports notebook inputs from pure python environments.  Two compatible compiler were created from IPython and Python\n",
    "* `importnb.Partial` works appropriately by improving exceptions.\n",
    "* All of the IPython magic syntaxes were removed to support Pure Python.\n",
    "* The generated Python files are formatted with black.\n",
    "* Tests were added to:\n",
    "\n",
    "    * Validate the line number in tracebacks\n",
    "    * Test someone elses notebooks"
   ]
  },
  {
   "cell_type": "markdown",
   "metadata": {},
   "source": [
    "### 0.1.4\n",
    "- Pypi supports markdown long_description with the proper mimetype in long_description_content_type."
   ]
  },
  {
   "cell_type": "markdown",
   "metadata": {},
   "source": [
    "### 0.1.3\n",
    "- Include the RST files in the `MANIFEST.in`."
   ]
  },
  {
   "cell_type": "markdown",
   "metadata": {},
   "source": [
    "### 0.1.2 (Unreleased)\n",
    "- Use RST files to improve the literacy of the pypi description."
   ]
  },
  {
   "cell_type": "markdown",
   "metadata": {},
   "source": [
    "### 0.1.1\n",
    "- Released on PyPi "
   ]
  },
  {
   "cell_type": "markdown",
   "metadata": {},
   "source": [
    "### 0.0.2\n",
    "- Initial Testing Release"
   ]
  }
 ],
 "metadata": {
  "kernelspec": {
   "display_name": "p6",
   "language": "python",
   "name": "other-env"
  },
  "language_info": {
   "codemirror_mode": {
    "name": "ipython",
    "version": 3
   },
   "file_extension": ".py",
   "mimetype": "text/x-python",
   "name": "python",
   "nbconvert_exporter": "python",
   "pygments_lexer": "ipython3",
   "version": "3.6.3"
  }
 },
 "nbformat": 4,
 "nbformat_minor": 2
}
